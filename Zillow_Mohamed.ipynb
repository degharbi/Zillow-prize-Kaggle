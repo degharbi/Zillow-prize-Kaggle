{
 "cells": [
  {
   "cell_type": "code",
   "execution_count": 93,
   "metadata": {},
   "outputs": [],
   "source": [
    "import pandas as pd\n",
    "import numpy as np \n",
    "import matplotlib.pyplot as plt\n",
    "import seaborn as sns\n",
    "color = sns.color_palette()\n",
    "%matplotlib inline"
   ]
  },
  {
   "cell_type": "markdown",
   "metadata": {},
   "source": [
    "# Chargement des données"
   ]
  },
  {
   "cell_type": "code",
   "execution_count": 94,
   "metadata": {},
   "outputs": [],
   "source": [
    "#path = '/home/dj/Téléchargements/'"
   ]
  },
  {
   "cell_type": "code",
   "execution_count": 95,
   "metadata": {},
   "outputs": [],
   "source": [
    "train16 = pd.read_csv('datasetzillow/train_2016_v2.csv', sep=',', header='infer', parse_dates=[\"transactiondate\"]) "
   ]
  },
  {
   "cell_type": "code",
   "execution_count": 96,
   "metadata": {},
   "outputs": [
    {
     "name": "stderr",
     "output_type": "stream",
     "text": [
      "C:\\Users\\Fitec\\Anaconda3\\lib\\site-packages\\IPython\\core\\interactiveshell.py:2785: DtypeWarning: Columns (22,32,34,49,55) have mixed types. Specify dtype option on import or set low_memory=False.\n",
      "  interactivity=interactivity, compiler=compiler, result=result)\n"
     ]
    }
   ],
   "source": [
    "X16 = pd.read_csv('datasetzillow//properties_2016.csv', sep=',', header='infer') "
   ]
  },
  {
   "cell_type": "code",
   "execution_count": 97,
   "metadata": {},
   "outputs": [
    {
     "data": {
      "text/html": [
       "<div>\n",
       "<style scoped>\n",
       "    .dataframe tbody tr th:only-of-type {\n",
       "        vertical-align: middle;\n",
       "    }\n",
       "\n",
       "    .dataframe tbody tr th {\n",
       "        vertical-align: top;\n",
       "    }\n",
       "\n",
       "    .dataframe thead th {\n",
       "        text-align: right;\n",
       "    }\n",
       "</style>\n",
       "<table border=\"1\" class=\"dataframe\">\n",
       "  <thead>\n",
       "    <tr style=\"text-align: right;\">\n",
       "      <th></th>\n",
       "      <th>parcelid</th>\n",
       "      <th>logerror</th>\n",
       "      <th>transactiondate</th>\n",
       "    </tr>\n",
       "  </thead>\n",
       "  <tbody>\n",
       "    <tr>\n",
       "      <th>0</th>\n",
       "      <td>11016594</td>\n",
       "      <td>0.0276</td>\n",
       "      <td>2016-01-01</td>\n",
       "    </tr>\n",
       "    <tr>\n",
       "      <th>1</th>\n",
       "      <td>14366692</td>\n",
       "      <td>-0.1684</td>\n",
       "      <td>2016-01-01</td>\n",
       "    </tr>\n",
       "  </tbody>\n",
       "</table>\n",
       "</div>"
      ],
      "text/plain": [
       "   parcelid  logerror transactiondate\n",
       "0  11016594    0.0276      2016-01-01\n",
       "1  14366692   -0.1684      2016-01-01"
      ]
     },
     "execution_count": 97,
     "metadata": {},
     "output_type": "execute_result"
    }
   ],
   "source": [
    "train16.head(2)"
   ]
  },
  {
   "cell_type": "code",
   "execution_count": 98,
   "metadata": {
    "scrolled": true
   },
   "outputs": [
    {
     "data": {
      "text/html": [
       "<div>\n",
       "<style scoped>\n",
       "    .dataframe tbody tr th:only-of-type {\n",
       "        vertical-align: middle;\n",
       "    }\n",
       "\n",
       "    .dataframe tbody tr th {\n",
       "        vertical-align: top;\n",
       "    }\n",
       "\n",
       "    .dataframe thead th {\n",
       "        text-align: right;\n",
       "    }\n",
       "</style>\n",
       "<table border=\"1\" class=\"dataframe\">\n",
       "  <thead>\n",
       "    <tr style=\"text-align: right;\">\n",
       "      <th></th>\n",
       "      <th>parcelid</th>\n",
       "      <th>airconditioningtypeid</th>\n",
       "      <th>architecturalstyletypeid</th>\n",
       "      <th>basementsqft</th>\n",
       "      <th>bathroomcnt</th>\n",
       "      <th>bedroomcnt</th>\n",
       "      <th>buildingclasstypeid</th>\n",
       "      <th>buildingqualitytypeid</th>\n",
       "      <th>calculatedbathnbr</th>\n",
       "      <th>decktypeid</th>\n",
       "      <th>...</th>\n",
       "      <th>numberofstories</th>\n",
       "      <th>fireplaceflag</th>\n",
       "      <th>structuretaxvaluedollarcnt</th>\n",
       "      <th>taxvaluedollarcnt</th>\n",
       "      <th>assessmentyear</th>\n",
       "      <th>landtaxvaluedollarcnt</th>\n",
       "      <th>taxamount</th>\n",
       "      <th>taxdelinquencyflag</th>\n",
       "      <th>taxdelinquencyyear</th>\n",
       "      <th>censustractandblock</th>\n",
       "    </tr>\n",
       "  </thead>\n",
       "  <tbody>\n",
       "    <tr>\n",
       "      <th>0</th>\n",
       "      <td>10754147</td>\n",
       "      <td>NaN</td>\n",
       "      <td>NaN</td>\n",
       "      <td>NaN</td>\n",
       "      <td>0.0</td>\n",
       "      <td>0.0</td>\n",
       "      <td>NaN</td>\n",
       "      <td>NaN</td>\n",
       "      <td>NaN</td>\n",
       "      <td>NaN</td>\n",
       "      <td>...</td>\n",
       "      <td>NaN</td>\n",
       "      <td>NaN</td>\n",
       "      <td>NaN</td>\n",
       "      <td>9.0</td>\n",
       "      <td>2015.0</td>\n",
       "      <td>9.0</td>\n",
       "      <td>NaN</td>\n",
       "      <td>NaN</td>\n",
       "      <td>NaN</td>\n",
       "      <td>NaN</td>\n",
       "    </tr>\n",
       "    <tr>\n",
       "      <th>1</th>\n",
       "      <td>10759547</td>\n",
       "      <td>NaN</td>\n",
       "      <td>NaN</td>\n",
       "      <td>NaN</td>\n",
       "      <td>0.0</td>\n",
       "      <td>0.0</td>\n",
       "      <td>NaN</td>\n",
       "      <td>NaN</td>\n",
       "      <td>NaN</td>\n",
       "      <td>NaN</td>\n",
       "      <td>...</td>\n",
       "      <td>NaN</td>\n",
       "      <td>NaN</td>\n",
       "      <td>NaN</td>\n",
       "      <td>27516.0</td>\n",
       "      <td>2015.0</td>\n",
       "      <td>27516.0</td>\n",
       "      <td>NaN</td>\n",
       "      <td>NaN</td>\n",
       "      <td>NaN</td>\n",
       "      <td>NaN</td>\n",
       "    </tr>\n",
       "  </tbody>\n",
       "</table>\n",
       "<p>2 rows × 58 columns</p>\n",
       "</div>"
      ],
      "text/plain": [
       "   parcelid  airconditioningtypeid  architecturalstyletypeid  basementsqft  \\\n",
       "0  10754147                    NaN                       NaN           NaN   \n",
       "1  10759547                    NaN                       NaN           NaN   \n",
       "\n",
       "   bathroomcnt  bedroomcnt  buildingclasstypeid  buildingqualitytypeid  \\\n",
       "0          0.0         0.0                  NaN                    NaN   \n",
       "1          0.0         0.0                  NaN                    NaN   \n",
       "\n",
       "   calculatedbathnbr  decktypeid         ...           numberofstories  \\\n",
       "0                NaN         NaN         ...                       NaN   \n",
       "1                NaN         NaN         ...                       NaN   \n",
       "\n",
       "   fireplaceflag  structuretaxvaluedollarcnt  taxvaluedollarcnt  \\\n",
       "0            NaN                         NaN                9.0   \n",
       "1            NaN                         NaN            27516.0   \n",
       "\n",
       "   assessmentyear  landtaxvaluedollarcnt  taxamount  taxdelinquencyflag  \\\n",
       "0          2015.0                    9.0        NaN                 NaN   \n",
       "1          2015.0                27516.0        NaN                 NaN   \n",
       "\n",
       "   taxdelinquencyyear  censustractandblock  \n",
       "0                 NaN                  NaN  \n",
       "1                 NaN                  NaN  \n",
       "\n",
       "[2 rows x 58 columns]"
      ]
     },
     "execution_count": 98,
     "metadata": {},
     "output_type": "execute_result"
    }
   ],
   "source": [
    "X16.head(2)"
   ]
  },
  {
   "cell_type": "code",
   "execution_count": 99,
   "metadata": {},
   "outputs": [],
   "source": [
    "#data = {'calculatedfinishedsquarefeet': X16['calculatedfinishedsquarefeet'].values}\n",
    "#X16 = pd.DataFrame(data=data,index=X16['calculatedfinishedsquarefeet'].values)\n",
    "#X16=X16.dropna()\n",
    "#X16['calculatedfinishedsquarefeet']\n",
    "#X16.isnull()"
   ]
  },
  {
   "cell_type": "markdown",
   "metadata": {},
   "source": [
    "# Exploration des données"
   ]
  },
  {
   "cell_type": "code",
   "execution_count": 100,
   "metadata": {},
   "outputs": [
    {
     "data": {
      "image/png": "[encoded data removed]",
      "text/plain": [
       "<Figure size 1440x720 with 1 Axes>"
      ]
     },
     "metadata": {
      "needs_background": "light"
     },
     "output_type": "display_data"
    }
   ],
   "source": [
    "plt.figure(figsize=(20,10))\n",
    "plt.plot(train16.transactiondate, train16.logerror, 'ro')\n",
    "plt.suptitle('Logerror train2016')\n",
    "plt.show()"
   ]
  },
  {
   "cell_type": "markdown",
   "metadata": {},
   "source": [
    "Le logerror sur les biens vendus en 2016 se situ entre -4.65 et 5.26 avec une moyenne de 0.0167, cependant le nuage de points ci-dessus nous indique la présence d'ouliers et on remarque donc que le logerror se situ réellement entre environ -3 et +3 (nous allons affiner l'analyse par la suite)\n",
    "\n",
    "Nous remarquons aussi que le logerror est faible à nul sur un intervale relativement régulier, s'agit-il des jours de weekend où les transactions immoblières ne sont pas enregistrées ? vérifions cela plus tard. "
   ]
  },
  {
   "cell_type": "code",
   "execution_count": 101,
   "metadata": {},
   "outputs": [
    {
     "data": {
      "image/png": "[encoded data removed]",
      "text/plain": [
       "<Figure size 1440x720 with 1 Axes>"
      ]
     },
     "metadata": {
      "needs_background": "light"
     },
     "output_type": "display_data"
    }
   ],
   "source": [
    "plt.figure(figsize=(20,10))\n",
    "plt.scatter(range(train16.shape[0]), np.sort(train16.logerror.values))\n",
    "plt.xlabel('Row index', fontsize=12)\n",
    "plt.ylabel('logerror', fontsize=12)\n",
    "plt.show()"
   ]
  },
  {
   "cell_type": "code",
   "execution_count": 102,
   "metadata": {},
   "outputs": [
    {
     "data": {
      "image/png": "[encoded data removed]",
      "text/plain": [
       "<Figure size 432x288 with 1 Axes>"
      ]
     },
     "metadata": {
      "needs_background": "light"
     },
     "output_type": "display_data"
    }
   ],
   "source": [
    "hist, bins = np.histogram(train16.logerror.values, bins=100)\n",
    "width = 0.7 * (bins[1] - bins[0])\n",
    "center = (bins[:-1] + bins[1:]) / 2\n",
    "plt.bar(center, hist, align='center', width=width)\n",
    "plt.suptitle('Histograme Logerror train2016')\n",
    "plt.show()"
   ]
  },
  {
   "cell_type": "markdown",
   "metadata": {},
   "source": [
    "On remarque une distribution de forme gaussienne du logerror avec une médiane autour du 0 et un écart type faible."
   ]
  },
  {
   "cell_type": "markdown",
   "metadata": {},
   "source": [
    "> Remarque 1 : \n",
    ">> L'alogithme de Zillow prédit assez bien les valeures immoblières avec un taux d'erreur qui gravite autour de 0, avec une répartition équilibrée des valeures surestimées et des valeurs sous-estimées "
   ]
  },
  {
   "cell_type": "code",
   "execution_count": 103,
   "metadata": {},
   "outputs": [
    {
     "data": {
      "image/png": "[encoded data removed]",
      "text/plain": [
       "<Figure size 1440x720 with 1 Axes>"
      ]
     },
     "metadata": {
      "needs_background": "light"
     },
     "output_type": "display_data"
    }
   ],
   "source": [
    "rangeMin,rangeMax = -0.2, 0.2\n",
    "hist, bins = np.histogram(train16.logerror.values, bins=200, range=(rangeMin,rangeMax))\n",
    "width = 0.2 * (bins[1] - bins[0])\n",
    "center = (bins[:-1] + bins[1:]) / 2\n",
    "plt.figure(figsize=(20,10))\n",
    "plt.bar(center, hist, align='center', width=width)\n",
    "plt.show()"
   ]
  },
  {
   "cell_type": "code",
   "execution_count": 196,
   "metadata": {},
   "outputs": [
    {
     "data": {
      "image/png": "[encoded data removed]",
      "text/plain": [
       "<Figure size 864x432 with 1 Axes>"
      ]
     },
     "metadata": {
      "needs_background": "light"
     },
     "output_type": "display_data"
    }
   ],
   "source": [
    "train16['transaction_month'] = train16['transactiondate'].dt.month\n",
    "\n",
    "cnt_srs = train16['transaction_month'].value_counts()\n",
    "plt.figure(figsize=(12,6))\n",
    "sns.barplot(cnt_srs.index, cnt_srs.values, alpha=0.8, color=color[3])\n",
    "plt.xticks(rotation='vertical')\n",
    "plt.xlabel('Mois de Transaction', fontsize=12)\n",
    "plt.ylabel(\"Nombre d'occurences\", fontsize=12)\n",
    "plt.show()"
   ]
  },
  {
   "cell_type": "markdown",
   "metadata": {},
   "source": [
    "# Préparation / Nettoyage des données "
   ]
  },
  {
   "cell_type": "markdown",
   "metadata": {},
   "source": [
    "A présent nous allons fusionner les 2 DF train et properties"
   ]
  },
  {
   "cell_type": "code",
   "execution_count": null,
   "metadata": {},
   "outputs": [],
   "source": []
  },
  {
   "cell_type": "code",
   "execution_count": 105,
   "metadata": {},
   "outputs": [],
   "source": [
    "X16 = pd.merge(train16, X16, on='parcelid', suffixes=('', ''))"
   ]
  },
  {
   "cell_type": "code",
   "execution_count": 106,
   "metadata": {},
   "outputs": [
    {
     "data": {
      "text/html": [
       "<div>\n",
       "<style scoped>\n",
       "    .dataframe tbody tr th:only-of-type {\n",
       "        vertical-align: middle;\n",
       "    }\n",
       "\n",
       "    .dataframe tbody tr th {\n",
       "        vertical-align: top;\n",
       "    }\n",
       "\n",
       "    .dataframe thead th {\n",
       "        text-align: right;\n",
       "    }\n",
       "</style>\n",
       "<table border=\"1\" class=\"dataframe\">\n",
       "  <thead>\n",
       "    <tr style=\"text-align: right;\">\n",
       "      <th></th>\n",
       "      <th>parcelid</th>\n",
       "      <th>logerror</th>\n",
       "      <th>transactiondate</th>\n",
       "      <th>transaction_month</th>\n",
       "      <th>airconditioningtypeid</th>\n",
       "      <th>architecturalstyletypeid</th>\n",
       "      <th>basementsqft</th>\n",
       "      <th>bathroomcnt</th>\n",
       "      <th>bedroomcnt</th>\n",
       "      <th>buildingclasstypeid</th>\n",
       "      <th>...</th>\n",
       "      <th>numberofstories</th>\n",
       "      <th>fireplaceflag</th>\n",
       "      <th>structuretaxvaluedollarcnt</th>\n",
       "      <th>taxvaluedollarcnt</th>\n",
       "      <th>assessmentyear</th>\n",
       "      <th>landtaxvaluedollarcnt</th>\n",
       "      <th>taxamount</th>\n",
       "      <th>taxdelinquencyflag</th>\n",
       "      <th>taxdelinquencyyear</th>\n",
       "      <th>censustractandblock</th>\n",
       "    </tr>\n",
       "  </thead>\n",
       "  <tbody>\n",
       "    <tr>\n",
       "      <th>0</th>\n",
       "      <td>11016594</td>\n",
       "      <td>0.0276</td>\n",
       "      <td>2016-01-01</td>\n",
       "      <td>1</td>\n",
       "      <td>1.0</td>\n",
       "      <td>NaN</td>\n",
       "      <td>NaN</td>\n",
       "      <td>2.0</td>\n",
       "      <td>3.0</td>\n",
       "      <td>NaN</td>\n",
       "      <td>...</td>\n",
       "      <td>NaN</td>\n",
       "      <td>NaN</td>\n",
       "      <td>122754.0</td>\n",
       "      <td>360170.0</td>\n",
       "      <td>2015.0</td>\n",
       "      <td>237416.0</td>\n",
       "      <td>6735.88</td>\n",
       "      <td>NaN</td>\n",
       "      <td>NaN</td>\n",
       "      <td>6.037107e+13</td>\n",
       "    </tr>\n",
       "    <tr>\n",
       "      <th>1</th>\n",
       "      <td>14366692</td>\n",
       "      <td>-0.1684</td>\n",
       "      <td>2016-01-01</td>\n",
       "      <td>1</td>\n",
       "      <td>NaN</td>\n",
       "      <td>NaN</td>\n",
       "      <td>NaN</td>\n",
       "      <td>3.5</td>\n",
       "      <td>4.0</td>\n",
       "      <td>NaN</td>\n",
       "      <td>...</td>\n",
       "      <td>NaN</td>\n",
       "      <td>NaN</td>\n",
       "      <td>346458.0</td>\n",
       "      <td>585529.0</td>\n",
       "      <td>2015.0</td>\n",
       "      <td>239071.0</td>\n",
       "      <td>10153.02</td>\n",
       "      <td>NaN</td>\n",
       "      <td>NaN</td>\n",
       "      <td>NaN</td>\n",
       "    </tr>\n",
       "    <tr>\n",
       "      <th>2</th>\n",
       "      <td>12098116</td>\n",
       "      <td>-0.0040</td>\n",
       "      <td>2016-01-01</td>\n",
       "      <td>1</td>\n",
       "      <td>1.0</td>\n",
       "      <td>NaN</td>\n",
       "      <td>NaN</td>\n",
       "      <td>3.0</td>\n",
       "      <td>2.0</td>\n",
       "      <td>NaN</td>\n",
       "      <td>...</td>\n",
       "      <td>NaN</td>\n",
       "      <td>NaN</td>\n",
       "      <td>61994.0</td>\n",
       "      <td>119906.0</td>\n",
       "      <td>2015.0</td>\n",
       "      <td>57912.0</td>\n",
       "      <td>11484.48</td>\n",
       "      <td>NaN</td>\n",
       "      <td>NaN</td>\n",
       "      <td>6.037464e+13</td>\n",
       "    </tr>\n",
       "    <tr>\n",
       "      <th>3</th>\n",
       "      <td>12643413</td>\n",
       "      <td>0.0218</td>\n",
       "      <td>2016-01-02</td>\n",
       "      <td>1</td>\n",
       "      <td>1.0</td>\n",
       "      <td>NaN</td>\n",
       "      <td>NaN</td>\n",
       "      <td>2.0</td>\n",
       "      <td>2.0</td>\n",
       "      <td>NaN</td>\n",
       "      <td>...</td>\n",
       "      <td>NaN</td>\n",
       "      <td>NaN</td>\n",
       "      <td>171518.0</td>\n",
       "      <td>244880.0</td>\n",
       "      <td>2015.0</td>\n",
       "      <td>73362.0</td>\n",
       "      <td>3048.74</td>\n",
       "      <td>NaN</td>\n",
       "      <td>NaN</td>\n",
       "      <td>6.037296e+13</td>\n",
       "    </tr>\n",
       "    <tr>\n",
       "      <th>4</th>\n",
       "      <td>14432541</td>\n",
       "      <td>-0.0050</td>\n",
       "      <td>2016-01-02</td>\n",
       "      <td>1</td>\n",
       "      <td>NaN</td>\n",
       "      <td>NaN</td>\n",
       "      <td>NaN</td>\n",
       "      <td>2.5</td>\n",
       "      <td>4.0</td>\n",
       "      <td>NaN</td>\n",
       "      <td>...</td>\n",
       "      <td>2.0</td>\n",
       "      <td>NaN</td>\n",
       "      <td>169574.0</td>\n",
       "      <td>434551.0</td>\n",
       "      <td>2015.0</td>\n",
       "      <td>264977.0</td>\n",
       "      <td>5488.96</td>\n",
       "      <td>NaN</td>\n",
       "      <td>NaN</td>\n",
       "      <td>6.059042e+13</td>\n",
       "    </tr>\n",
       "  </tbody>\n",
       "</table>\n",
       "<p>5 rows × 61 columns</p>\n",
       "</div>"
      ],
      "text/plain": [
       "   parcelid  logerror transactiondate  transaction_month  \\\n",
       "0  11016594    0.0276      2016-01-01                  1   \n",
       "1  14366692   -0.1684      2016-01-01                  1   \n",
       "2  12098116   -0.0040      2016-01-01                  1   \n",
       "3  12643413    0.0218      2016-01-02                  1   \n",
       "4  14432541   -0.0050      2016-01-02                  1   \n",
       "\n",
       "   airconditioningtypeid  architecturalstyletypeid  basementsqft  bathroomcnt  \\\n",
       "0                    1.0                       NaN           NaN          2.0   \n",
       "1                    NaN                       NaN           NaN          3.5   \n",
       "2                    1.0                       NaN           NaN          3.0   \n",
       "3                    1.0                       NaN           NaN          2.0   \n",
       "4                    NaN                       NaN           NaN          2.5   \n",
       "\n",
       "   bedroomcnt  buildingclasstypeid         ...           numberofstories  \\\n",
       "0         3.0                  NaN         ...                       NaN   \n",
       "1         4.0                  NaN         ...                       NaN   \n",
       "2         2.0                  NaN         ...                       NaN   \n",
       "3         2.0                  NaN         ...                       NaN   \n",
       "4         4.0                  NaN         ...                       2.0   \n",
       "\n",
       "   fireplaceflag  structuretaxvaluedollarcnt  taxvaluedollarcnt  \\\n",
       "0            NaN                    122754.0           360170.0   \n",
       "1            NaN                    346458.0           585529.0   \n",
       "2            NaN                     61994.0           119906.0   \n",
       "3            NaN                    171518.0           244880.0   \n",
       "4            NaN                    169574.0           434551.0   \n",
       "\n",
       "   assessmentyear  landtaxvaluedollarcnt  taxamount  taxdelinquencyflag  \\\n",
       "0          2015.0               237416.0    6735.88                 NaN   \n",
       "1          2015.0               239071.0   10153.02                 NaN   \n",
       "2          2015.0                57912.0   11484.48                 NaN   \n",
       "3          2015.0                73362.0    3048.74                 NaN   \n",
       "4          2015.0               264977.0    5488.96                 NaN   \n",
       "\n",
       "   taxdelinquencyyear  censustractandblock  \n",
       "0                 NaN         6.037107e+13  \n",
       "1                 NaN                  NaN  \n",
       "2                 NaN         6.037464e+13  \n",
       "3                 NaN         6.037296e+13  \n",
       "4                 NaN         6.059042e+13  \n",
       "\n",
       "[5 rows x 61 columns]"
      ]
     },
     "execution_count": 106,
     "metadata": {},
     "output_type": "execute_result"
    }
   ],
   "source": [
    "X16.head()"
   ]
  },
  {
   "cell_type": "code",
   "execution_count": 107,
   "metadata": {},
   "outputs": [
    {
     "data": {
      "text/plain": [
       "Index(['parcelid', 'logerror', 'transactiondate', 'transaction_month',\n",
       "       'airconditioningtypeid', 'architecturalstyletypeid', 'basementsqft',\n",
       "       'bathroomcnt', 'bedroomcnt', 'buildingclasstypeid',\n",
       "       'buildingqualitytypeid', 'calculatedbathnbr', 'decktypeid',\n",
       "       'finishedfloor1squarefeet', 'calculatedfinishedsquarefeet',\n",
       "       'finishedsquarefeet12', 'finishedsquarefeet13', 'finishedsquarefeet15',\n",
       "       'finishedsquarefeet50', 'finishedsquarefeet6', 'fips', 'fireplacecnt',\n",
       "       'fullbathcnt', 'garagecarcnt', 'garagetotalsqft', 'hashottuborspa',\n",
       "       'heatingorsystemtypeid', 'latitude', 'longitude', 'lotsizesquarefeet',\n",
       "       'poolcnt', 'poolsizesum', 'pooltypeid10', 'pooltypeid2', 'pooltypeid7',\n",
       "       'propertycountylandusecode', 'propertylandusetypeid',\n",
       "       'propertyzoningdesc', 'rawcensustractandblock', 'regionidcity',\n",
       "       'regionidcounty', 'regionidneighborhood', 'regionidzip', 'roomcnt',\n",
       "       'storytypeid', 'threequarterbathnbr', 'typeconstructiontypeid',\n",
       "       'unitcnt', 'yardbuildingsqft17', 'yardbuildingsqft26', 'yearbuilt',\n",
       "       'numberofstories', 'fireplaceflag', 'structuretaxvaluedollarcnt',\n",
       "       'taxvaluedollarcnt', 'assessmentyear', 'landtaxvaluedollarcnt',\n",
       "       'taxamount', 'taxdelinquencyflag', 'taxdelinquencyyear',\n",
       "       'censustractandblock'],\n",
       "      dtype='object')"
      ]
     },
     "execution_count": 107,
     "metadata": {},
     "output_type": "execute_result"
    }
   ],
   "source": [
    "X16.columns"
   ]
  },
  {
   "cell_type": "code",
   "execution_count": 108,
   "metadata": {},
   "outputs": [
    {
     "data": {
      "text/html": [
       "<div>\n",
       "<style scoped>\n",
       "    .dataframe tbody tr th:only-of-type {\n",
       "        vertical-align: middle;\n",
       "    }\n",
       "\n",
       "    .dataframe tbody tr th {\n",
       "        vertical-align: top;\n",
       "    }\n",
       "\n",
       "    .dataframe thead th {\n",
       "        text-align: right;\n",
       "    }\n",
       "</style>\n",
       "<table border=\"1\" class=\"dataframe\">\n",
       "  <thead>\n",
       "    <tr style=\"text-align: right;\">\n",
       "      <th></th>\n",
       "      <th>parcelid</th>\n",
       "      <th>logerror</th>\n",
       "      <th>transaction_month</th>\n",
       "      <th>airconditioningtypeid</th>\n",
       "      <th>architecturalstyletypeid</th>\n",
       "      <th>basementsqft</th>\n",
       "      <th>bathroomcnt</th>\n",
       "      <th>bedroomcnt</th>\n",
       "      <th>buildingclasstypeid</th>\n",
       "      <th>buildingqualitytypeid</th>\n",
       "      <th>...</th>\n",
       "      <th>yardbuildingsqft26</th>\n",
       "      <th>yearbuilt</th>\n",
       "      <th>numberofstories</th>\n",
       "      <th>structuretaxvaluedollarcnt</th>\n",
       "      <th>taxvaluedollarcnt</th>\n",
       "      <th>assessmentyear</th>\n",
       "      <th>landtaxvaluedollarcnt</th>\n",
       "      <th>taxamount</th>\n",
       "      <th>taxdelinquencyyear</th>\n",
       "      <th>censustractandblock</th>\n",
       "    </tr>\n",
       "  </thead>\n",
       "  <tbody>\n",
       "    <tr>\n",
       "      <th>count</th>\n",
       "      <td>9.027500e+04</td>\n",
       "      <td>90275.000000</td>\n",
       "      <td>90275.000000</td>\n",
       "      <td>28781.000000</td>\n",
       "      <td>261.000000</td>\n",
       "      <td>43.000000</td>\n",
       "      <td>90275.000000</td>\n",
       "      <td>90275.000000</td>\n",
       "      <td>16.0</td>\n",
       "      <td>57364.000000</td>\n",
       "      <td>...</td>\n",
       "      <td>95.000000</td>\n",
       "      <td>89519.000000</td>\n",
       "      <td>20570.000000</td>\n",
       "      <td>8.989500e+04</td>\n",
       "      <td>9.027400e+04</td>\n",
       "      <td>90275.0</td>\n",
       "      <td>9.027400e+04</td>\n",
       "      <td>90269.000000</td>\n",
       "      <td>1783.000000</td>\n",
       "      <td>8.967000e+04</td>\n",
       "    </tr>\n",
       "    <tr>\n",
       "      <th>mean</th>\n",
       "      <td>1.298466e+07</td>\n",
       "      <td>0.011457</td>\n",
       "      <td>5.849848</td>\n",
       "      <td>1.816372</td>\n",
       "      <td>7.229885</td>\n",
       "      <td>713.581395</td>\n",
       "      <td>2.279474</td>\n",
       "      <td>3.031869</td>\n",
       "      <td>4.0</td>\n",
       "      <td>5.565407</td>\n",
       "      <td>...</td>\n",
       "      <td>311.694737</td>\n",
       "      <td>1968.532870</td>\n",
       "      <td>1.440739</td>\n",
       "      <td>1.800934e+05</td>\n",
       "      <td>4.576726e+05</td>\n",
       "      <td>2015.0</td>\n",
       "      <td>2.783353e+05</td>\n",
       "      <td>5983.975927</td>\n",
       "      <td>13.402692</td>\n",
       "      <td>6.049151e+13</td>\n",
       "    </tr>\n",
       "    <tr>\n",
       "      <th>std</th>\n",
       "      <td>2.504510e+06</td>\n",
       "      <td>0.161079</td>\n",
       "      <td>2.812690</td>\n",
       "      <td>2.974168</td>\n",
       "      <td>2.716196</td>\n",
       "      <td>437.434198</td>\n",
       "      <td>1.004271</td>\n",
       "      <td>1.156436</td>\n",
       "      <td>0.0</td>\n",
       "      <td>1.900602</td>\n",
       "      <td>...</td>\n",
       "      <td>346.354850</td>\n",
       "      <td>23.763475</td>\n",
       "      <td>0.544498</td>\n",
       "      <td>2.091299e+05</td>\n",
       "      <td>5.548844e+05</td>\n",
       "      <td>0.0</td>\n",
       "      <td>4.004955e+05</td>\n",
       "      <td>6838.876956</td>\n",
       "      <td>2.715966</td>\n",
       "      <td>2.046605e+11</td>\n",
       "    </tr>\n",
       "    <tr>\n",
       "      <th>min</th>\n",
       "      <td>1.071174e+07</td>\n",
       "      <td>-4.605000</td>\n",
       "      <td>1.000000</td>\n",
       "      <td>1.000000</td>\n",
       "      <td>2.000000</td>\n",
       "      <td>100.000000</td>\n",
       "      <td>0.000000</td>\n",
       "      <td>0.000000</td>\n",
       "      <td>4.0</td>\n",
       "      <td>1.000000</td>\n",
       "      <td>...</td>\n",
       "      <td>18.000000</td>\n",
       "      <td>1885.000000</td>\n",
       "      <td>1.000000</td>\n",
       "      <td>1.000000e+02</td>\n",
       "      <td>2.200000e+01</td>\n",
       "      <td>2015.0</td>\n",
       "      <td>2.200000e+01</td>\n",
       "      <td>49.080000</td>\n",
       "      <td>6.000000</td>\n",
       "      <td>6.037101e+13</td>\n",
       "    </tr>\n",
       "    <tr>\n",
       "      <th>25%</th>\n",
       "      <td>1.155950e+07</td>\n",
       "      <td>-0.025300</td>\n",
       "      <td>4.000000</td>\n",
       "      <td>1.000000</td>\n",
       "      <td>7.000000</td>\n",
       "      <td>407.500000</td>\n",
       "      <td>2.000000</td>\n",
       "      <td>2.000000</td>\n",
       "      <td>4.0</td>\n",
       "      <td>4.000000</td>\n",
       "      <td>...</td>\n",
       "      <td>100.000000</td>\n",
       "      <td>1953.000000</td>\n",
       "      <td>1.000000</td>\n",
       "      <td>8.124500e+04</td>\n",
       "      <td>1.990232e+05</td>\n",
       "      <td>2015.0</td>\n",
       "      <td>8.222800e+04</td>\n",
       "      <td>2872.830000</td>\n",
       "      <td>13.000000</td>\n",
       "      <td>6.037320e+13</td>\n",
       "    </tr>\n",
       "    <tr>\n",
       "      <th>50%</th>\n",
       "      <td>1.254734e+07</td>\n",
       "      <td>0.006000</td>\n",
       "      <td>6.000000</td>\n",
       "      <td>1.000000</td>\n",
       "      <td>7.000000</td>\n",
       "      <td>616.000000</td>\n",
       "      <td>2.000000</td>\n",
       "      <td>3.000000</td>\n",
       "      <td>4.0</td>\n",
       "      <td>7.000000</td>\n",
       "      <td>...</td>\n",
       "      <td>159.000000</td>\n",
       "      <td>1970.000000</td>\n",
       "      <td>1.000000</td>\n",
       "      <td>1.320000e+05</td>\n",
       "      <td>3.428720e+05</td>\n",
       "      <td>2015.0</td>\n",
       "      <td>1.929700e+05</td>\n",
       "      <td>4542.750000</td>\n",
       "      <td>14.000000</td>\n",
       "      <td>6.037615e+13</td>\n",
       "    </tr>\n",
       "    <tr>\n",
       "      <th>75%</th>\n",
       "      <td>1.422755e+07</td>\n",
       "      <td>0.039200</td>\n",
       "      <td>8.000000</td>\n",
       "      <td>1.000000</td>\n",
       "      <td>7.000000</td>\n",
       "      <td>872.000000</td>\n",
       "      <td>3.000000</td>\n",
       "      <td>4.000000</td>\n",
       "      <td>4.0</td>\n",
       "      <td>7.000000</td>\n",
       "      <td>...</td>\n",
       "      <td>361.000000</td>\n",
       "      <td>1987.000000</td>\n",
       "      <td>2.000000</td>\n",
       "      <td>2.105345e+05</td>\n",
       "      <td>5.405890e+05</td>\n",
       "      <td>2015.0</td>\n",
       "      <td>3.454195e+05</td>\n",
       "      <td>6901.090000</td>\n",
       "      <td>15.000000</td>\n",
       "      <td>6.059042e+13</td>\n",
       "    </tr>\n",
       "    <tr>\n",
       "      <th>max</th>\n",
       "      <td>1.629608e+08</td>\n",
       "      <td>4.737000</td>\n",
       "      <td>12.000000</td>\n",
       "      <td>13.000000</td>\n",
       "      <td>21.000000</td>\n",
       "      <td>1555.000000</td>\n",
       "      <td>20.000000</td>\n",
       "      <td>16.000000</td>\n",
       "      <td>4.0</td>\n",
       "      <td>12.000000</td>\n",
       "      <td>...</td>\n",
       "      <td>1366.000000</td>\n",
       "      <td>2015.000000</td>\n",
       "      <td>4.000000</td>\n",
       "      <td>9.948100e+06</td>\n",
       "      <td>2.775000e+07</td>\n",
       "      <td>2015.0</td>\n",
       "      <td>2.450000e+07</td>\n",
       "      <td>321936.090000</td>\n",
       "      <td>99.000000</td>\n",
       "      <td>6.111009e+13</td>\n",
       "    </tr>\n",
       "  </tbody>\n",
       "</table>\n",
       "<p>8 rows × 55 columns</p>\n",
       "</div>"
      ],
      "text/plain": [
       "           parcelid      logerror  transaction_month  airconditioningtypeid  \\\n",
       "count  9.027500e+04  90275.000000       90275.000000           28781.000000   \n",
       "mean   1.298466e+07      0.011457           5.849848               1.816372   \n",
       "std    2.504510e+06      0.161079           2.812690               2.974168   \n",
       "min    1.071174e+07     -4.605000           1.000000               1.000000   \n",
       "25%    1.155950e+07     -0.025300           4.000000               1.000000   \n",
       "50%    1.254734e+07      0.006000           6.000000               1.000000   \n",
       "75%    1.422755e+07      0.039200           8.000000               1.000000   \n",
       "max    1.629608e+08      4.737000          12.000000              13.000000   \n",
       "\n",
       "       architecturalstyletypeid  basementsqft   bathroomcnt    bedroomcnt  \\\n",
       "count                261.000000     43.000000  90275.000000  90275.000000   \n",
       "mean                   7.229885    713.581395      2.279474      3.031869   \n",
       "std                    2.716196    437.434198      1.004271      1.156436   \n",
       "min                    2.000000    100.000000      0.000000      0.000000   \n",
       "25%                    7.000000    407.500000      2.000000      2.000000   \n",
       "50%                    7.000000    616.000000      2.000000      3.000000   \n",
       "75%                    7.000000    872.000000      3.000000      4.000000   \n",
       "max                   21.000000   1555.000000     20.000000     16.000000   \n",
       "\n",
       "       buildingclasstypeid  buildingqualitytypeid         ...           \\\n",
       "count                 16.0           57364.000000         ...            \n",
       "mean                   4.0               5.565407         ...            \n",
       "std                    0.0               1.900602         ...            \n",
       "min                    4.0               1.000000         ...            \n",
       "25%                    4.0               4.000000         ...            \n",
       "50%                    4.0               7.000000         ...            \n",
       "75%                    4.0               7.000000         ...            \n",
       "max                    4.0              12.000000         ...            \n",
       "\n",
       "       yardbuildingsqft26     yearbuilt  numberofstories  \\\n",
       "count           95.000000  89519.000000     20570.000000   \n",
       "mean           311.694737   1968.532870         1.440739   \n",
       "std            346.354850     23.763475         0.544498   \n",
       "min             18.000000   1885.000000         1.000000   \n",
       "25%            100.000000   1953.000000         1.000000   \n",
       "50%            159.000000   1970.000000         1.000000   \n",
       "75%            361.000000   1987.000000         2.000000   \n",
       "max           1366.000000   2015.000000         4.000000   \n",
       "\n",
       "       structuretaxvaluedollarcnt  taxvaluedollarcnt  assessmentyear  \\\n",
       "count                8.989500e+04       9.027400e+04         90275.0   \n",
       "mean                 1.800934e+05       4.576726e+05          2015.0   \n",
       "std                  2.091299e+05       5.548844e+05             0.0   \n",
       "min                  1.000000e+02       2.200000e+01          2015.0   \n",
       "25%                  8.124500e+04       1.990232e+05          2015.0   \n",
       "50%                  1.320000e+05       3.428720e+05          2015.0   \n",
       "75%                  2.105345e+05       5.405890e+05          2015.0   \n",
       "max                  9.948100e+06       2.775000e+07          2015.0   \n",
       "\n",
       "       landtaxvaluedollarcnt      taxamount  taxdelinquencyyear  \\\n",
       "count           9.027400e+04   90269.000000         1783.000000   \n",
       "mean            2.783353e+05    5983.975927           13.402692   \n",
       "std             4.004955e+05    6838.876956            2.715966   \n",
       "min             2.200000e+01      49.080000            6.000000   \n",
       "25%             8.222800e+04    2872.830000           13.000000   \n",
       "50%             1.929700e+05    4542.750000           14.000000   \n",
       "75%             3.454195e+05    6901.090000           15.000000   \n",
       "max             2.450000e+07  321936.090000           99.000000   \n",
       "\n",
       "       censustractandblock  \n",
       "count         8.967000e+04  \n",
       "mean          6.049151e+13  \n",
       "std           2.046605e+11  \n",
       "min           6.037101e+13  \n",
       "25%           6.037320e+13  \n",
       "50%           6.037615e+13  \n",
       "75%           6.059042e+13  \n",
       "max           6.111009e+13  \n",
       "\n",
       "[8 rows x 55 columns]"
      ]
     },
     "execution_count": 108,
     "metadata": {},
     "output_type": "execute_result"
    }
   ],
   "source": [
    "X16.describe()"
   ]
  },
  {
   "cell_type": "markdown",
   "metadata": {},
   "source": [
    "Nous remarquons la présence de valeurs manquantes dans le DF, procédons à une analyse des valeurs manquantes : "
   ]
  },
  {
   "cell_type": "code",
   "execution_count": 109,
   "metadata": {},
   "outputs": [
    {
     "data": {
      "text/plain": [
       "<matplotlib.axes._subplots.AxesSubplot at 0x1eca3be4b00>"
      ]
     },
     "execution_count": 109,
     "metadata": {},
     "output_type": "execute_result"
    },
    {
     "data": {
      "image/png": "[encoded data removed]",
      "text/plain": [
       "<Figure size 864x1440 with 1 Axes>"
      ]
     },
     "metadata": {
      "needs_background": "light"
     },
     "output_type": "display_data"
    }
   ],
   "source": [
    "plt.figure(figsize=(12,20))\n",
    "X16.drop('parcelid',axis=1).notnull().mean().sort_values(ascending = True).plot(kind = 'barh')"
   ]
  },
  {
   "cell_type": "markdown",
   "metadata": {},
   "source": [
    "On remarque du diagram de bars horizontal que pour presque la moitié des variables plus de 50% des données sont manquantes, \n",
    "\n",
    "Procédons donc au comptage des données manquantes :"
   ]
  },
  {
   "cell_type": "code",
   "execution_count": 110,
   "metadata": {},
   "outputs": [
    {
     "data": {
      "text/plain": [
       "<bound method NDFrame.head of                      column_name  missing_count  missing_rate\n",
       "0                       parcelid              0      0.000000\n",
       "28                     longitude              0      0.000000\n",
       "36         propertylandusetypeid              0      0.000000\n",
       "38        rawcensustractandblock              0      0.000000\n",
       "40                regionidcounty              0      0.000000\n",
       "43                       roomcnt              0      0.000000\n",
       "27                      latitude              0      0.000000\n",
       "8                     bedroomcnt              0      0.000000\n",
       "20                          fips              0      0.000000\n",
       "55                assessmentyear              0      0.000000\n",
       "3              transaction_month              0      0.000000\n",
       "2                transactiondate              0      0.000000\n",
       "1                       logerror              0      0.000000\n",
       "7                    bathroomcnt              0      0.000000\n",
       "54             taxvaluedollarcnt              1      0.000011\n",
       "56         landtaxvaluedollarcnt              1      0.000011\n",
       "35     propertycountylandusecode              1      0.000011\n",
       "57                     taxamount              6      0.000066\n",
       "42                   regionidzip             35      0.000388\n",
       "53    structuretaxvaluedollarcnt            380      0.004209\n",
       "60           censustractandblock            605      0.006702\n",
       "14  calculatedfinishedsquarefeet            661      0.007322\n",
       "50                     yearbuilt            756      0.008374\n",
       "22                   fullbathcnt           1182      0.013093\n",
       "11             calculatedbathnbr           1182      0.013093\n",
       "39                  regionidcity           1803      0.019972\n",
       "15          finishedsquarefeet12           4679      0.051831\n",
       "29             lotsizesquarefeet          10150      0.112434\n",
       "47                       unitcnt          31922      0.353608\n",
       "37            propertyzoningdesc          31962      0.354052\n",
       "..                           ...            ...           ...\n",
       "26         heatingorsystemtypeid          34195      0.378787\n",
       "41          regionidneighborhood          54263      0.601086\n",
       "24               garagetotalsqft          60338      0.668380\n",
       "23                  garagecarcnt          60338      0.668380\n",
       "4          airconditioningtypeid          61494      0.681185\n",
       "51               numberofstories          69705      0.772141\n",
       "30                       poolcnt          72374      0.801706\n",
       "34                   pooltypeid7          73578      0.815043\n",
       "45           threequarterbathnbr          78266      0.866973\n",
       "21                  fireplacecnt          80668      0.893581\n",
       "13      finishedfloor1squarefeet          83419      0.924054\n",
       "18          finishedsquarefeet50          83419      0.924054\n",
       "17          finishedsquarefeet15          86711      0.960521\n",
       "48            yardbuildingsqft17          87629      0.970690\n",
       "25                hashottuborspa          87910      0.973802\n",
       "58            taxdelinquencyflag          88492      0.980249\n",
       "59            taxdelinquencyyear          88492      0.980249\n",
       "33                   pooltypeid2          89071      0.986663\n",
       "32                  pooltypeid10          89114      0.987139\n",
       "31                   poolsizesum          89306      0.989266\n",
       "12                    decktypeid          89617      0.992711\n",
       "19           finishedsquarefeet6          89854      0.995336\n",
       "46        typeconstructiontypeid          89976      0.996688\n",
       "5       architecturalstyletypeid          90014      0.997109\n",
       "52                 fireplaceflag          90053      0.997541\n",
       "49            yardbuildingsqft26          90180      0.998948\n",
       "44                   storytypeid          90232      0.999524\n",
       "6                   basementsqft          90232      0.999524\n",
       "16          finishedsquarefeet13          90242      0.999634\n",
       "9            buildingclasstypeid          90259      0.999823\n",
       "\n",
       "[61 rows x 3 columns]>"
      ]
     },
     "execution_count": 110,
     "metadata": {},
     "output_type": "execute_result"
    }
   ],
   "source": [
    "# Calcul du nombre de données manquantes par colonne\n",
    "X16_missing = X16.isnull().sum(axis=0).reset_index()\n",
    "X16_missing.columns = ['column_name', 'missing_count']\n",
    "X16_missing = X16_missing.sort_values(by='missing_count')\n",
    "\n",
    "# Calcul du pourcentage des données manquantes\n",
    "X16_missing['missing_rate'] = X16_missing['missing_count']/ X16.parcelid.count()\n",
    "X16_missing = X16_missing.sort_values(by='missing_rate')\n",
    "X16_missing.head"
   ]
  },
  {
   "cell_type": "code",
   "execution_count": 111,
   "metadata": {},
   "outputs": [],
   "source": [
    "missing_pct = 0.8\n",
    "X16.drop(X16_missing[(X16_missing.missing_rate>=missing_pct)].column_name.values.tolist(),\n",
    "                    axis=1,inplace=True)"
   ]
  },
  {
   "cell_type": "code",
   "execution_count": 112,
   "metadata": {},
   "outputs": [],
   "source": [
    "X16.to_csv('X16.csv')"
   ]
  },
  {
   "cell_type": "code",
   "execution_count": 113,
   "metadata": {},
   "outputs": [
    {
     "data": {
      "text/html": [
       "<div>\n",
       "<style scoped>\n",
       "    .dataframe tbody tr th:only-of-type {\n",
       "        vertical-align: middle;\n",
       "    }\n",
       "\n",
       "    .dataframe tbody tr th {\n",
       "        vertical-align: top;\n",
       "    }\n",
       "\n",
       "    .dataframe thead th {\n",
       "        text-align: right;\n",
       "    }\n",
       "</style>\n",
       "<table border=\"1\" class=\"dataframe\">\n",
       "  <thead>\n",
       "    <tr style=\"text-align: right;\">\n",
       "      <th></th>\n",
       "      <th>Count</th>\n",
       "      <th>Column Type</th>\n",
       "    </tr>\n",
       "  </thead>\n",
       "  <tbody>\n",
       "    <tr>\n",
       "      <th>0</th>\n",
       "      <td>parcelid</td>\n",
       "      <td>int64</td>\n",
       "    </tr>\n",
       "    <tr>\n",
       "      <th>1</th>\n",
       "      <td>logerror</td>\n",
       "      <td>float64</td>\n",
       "    </tr>\n",
       "    <tr>\n",
       "      <th>2</th>\n",
       "      <td>transactiondate</td>\n",
       "      <td>datetime64[ns]</td>\n",
       "    </tr>\n",
       "    <tr>\n",
       "      <th>3</th>\n",
       "      <td>transaction_month</td>\n",
       "      <td>int64</td>\n",
       "    </tr>\n",
       "    <tr>\n",
       "      <th>4</th>\n",
       "      <td>airconditioningtypeid</td>\n",
       "      <td>float64</td>\n",
       "    </tr>\n",
       "    <tr>\n",
       "      <th>5</th>\n",
       "      <td>bathroomcnt</td>\n",
       "      <td>float64</td>\n",
       "    </tr>\n",
       "    <tr>\n",
       "      <th>6</th>\n",
       "      <td>bedroomcnt</td>\n",
       "      <td>float64</td>\n",
       "    </tr>\n",
       "    <tr>\n",
       "      <th>7</th>\n",
       "      <td>buildingqualitytypeid</td>\n",
       "      <td>float64</td>\n",
       "    </tr>\n",
       "    <tr>\n",
       "      <th>8</th>\n",
       "      <td>calculatedbathnbr</td>\n",
       "      <td>float64</td>\n",
       "    </tr>\n",
       "    <tr>\n",
       "      <th>9</th>\n",
       "      <td>calculatedfinishedsquarefeet</td>\n",
       "      <td>float64</td>\n",
       "    </tr>\n",
       "    <tr>\n",
       "      <th>10</th>\n",
       "      <td>finishedsquarefeet12</td>\n",
       "      <td>float64</td>\n",
       "    </tr>\n",
       "    <tr>\n",
       "      <th>11</th>\n",
       "      <td>fips</td>\n",
       "      <td>float64</td>\n",
       "    </tr>\n",
       "    <tr>\n",
       "      <th>12</th>\n",
       "      <td>fullbathcnt</td>\n",
       "      <td>float64</td>\n",
       "    </tr>\n",
       "    <tr>\n",
       "      <th>13</th>\n",
       "      <td>garagecarcnt</td>\n",
       "      <td>float64</td>\n",
       "    </tr>\n",
       "    <tr>\n",
       "      <th>14</th>\n",
       "      <td>garagetotalsqft</td>\n",
       "      <td>float64</td>\n",
       "    </tr>\n",
       "    <tr>\n",
       "      <th>15</th>\n",
       "      <td>heatingorsystemtypeid</td>\n",
       "      <td>float64</td>\n",
       "    </tr>\n",
       "    <tr>\n",
       "      <th>16</th>\n",
       "      <td>latitude</td>\n",
       "      <td>float64</td>\n",
       "    </tr>\n",
       "    <tr>\n",
       "      <th>17</th>\n",
       "      <td>longitude</td>\n",
       "      <td>float64</td>\n",
       "    </tr>\n",
       "    <tr>\n",
       "      <th>18</th>\n",
       "      <td>lotsizesquarefeet</td>\n",
       "      <td>float64</td>\n",
       "    </tr>\n",
       "    <tr>\n",
       "      <th>19</th>\n",
       "      <td>propertycountylandusecode</td>\n",
       "      <td>object</td>\n",
       "    </tr>\n",
       "    <tr>\n",
       "      <th>20</th>\n",
       "      <td>propertylandusetypeid</td>\n",
       "      <td>float64</td>\n",
       "    </tr>\n",
       "    <tr>\n",
       "      <th>21</th>\n",
       "      <td>propertyzoningdesc</td>\n",
       "      <td>object</td>\n",
       "    </tr>\n",
       "    <tr>\n",
       "      <th>22</th>\n",
       "      <td>rawcensustractandblock</td>\n",
       "      <td>float64</td>\n",
       "    </tr>\n",
       "    <tr>\n",
       "      <th>23</th>\n",
       "      <td>regionidcity</td>\n",
       "      <td>float64</td>\n",
       "    </tr>\n",
       "    <tr>\n",
       "      <th>24</th>\n",
       "      <td>regionidcounty</td>\n",
       "      <td>float64</td>\n",
       "    </tr>\n",
       "    <tr>\n",
       "      <th>25</th>\n",
       "      <td>regionidneighborhood</td>\n",
       "      <td>float64</td>\n",
       "    </tr>\n",
       "    <tr>\n",
       "      <th>26</th>\n",
       "      <td>regionidzip</td>\n",
       "      <td>float64</td>\n",
       "    </tr>\n",
       "    <tr>\n",
       "      <th>27</th>\n",
       "      <td>roomcnt</td>\n",
       "      <td>float64</td>\n",
       "    </tr>\n",
       "    <tr>\n",
       "      <th>28</th>\n",
       "      <td>unitcnt</td>\n",
       "      <td>float64</td>\n",
       "    </tr>\n",
       "    <tr>\n",
       "      <th>29</th>\n",
       "      <td>yearbuilt</td>\n",
       "      <td>float64</td>\n",
       "    </tr>\n",
       "    <tr>\n",
       "      <th>30</th>\n",
       "      <td>numberofstories</td>\n",
       "      <td>float64</td>\n",
       "    </tr>\n",
       "    <tr>\n",
       "      <th>31</th>\n",
       "      <td>structuretaxvaluedollarcnt</td>\n",
       "      <td>float64</td>\n",
       "    </tr>\n",
       "    <tr>\n",
       "      <th>32</th>\n",
       "      <td>taxvaluedollarcnt</td>\n",
       "      <td>float64</td>\n",
       "    </tr>\n",
       "    <tr>\n",
       "      <th>33</th>\n",
       "      <td>assessmentyear</td>\n",
       "      <td>float64</td>\n",
       "    </tr>\n",
       "    <tr>\n",
       "      <th>34</th>\n",
       "      <td>landtaxvaluedollarcnt</td>\n",
       "      <td>float64</td>\n",
       "    </tr>\n",
       "    <tr>\n",
       "      <th>35</th>\n",
       "      <td>taxamount</td>\n",
       "      <td>float64</td>\n",
       "    </tr>\n",
       "    <tr>\n",
       "      <th>36</th>\n",
       "      <td>censustractandblock</td>\n",
       "      <td>float64</td>\n",
       "    </tr>\n",
       "  </tbody>\n",
       "</table>\n",
       "</div>"
      ],
      "text/plain": [
       "                           Count     Column Type\n",
       "0                       parcelid           int64\n",
       "1                       logerror         float64\n",
       "2                transactiondate  datetime64[ns]\n",
       "3              transaction_month           int64\n",
       "4          airconditioningtypeid         float64\n",
       "5                    bathroomcnt         float64\n",
       "6                     bedroomcnt         float64\n",
       "7          buildingqualitytypeid         float64\n",
       "8              calculatedbathnbr         float64\n",
       "9   calculatedfinishedsquarefeet         float64\n",
       "10          finishedsquarefeet12         float64\n",
       "11                          fips         float64\n",
       "12                   fullbathcnt         float64\n",
       "13                  garagecarcnt         float64\n",
       "14               garagetotalsqft         float64\n",
       "15         heatingorsystemtypeid         float64\n",
       "16                      latitude         float64\n",
       "17                     longitude         float64\n",
       "18             lotsizesquarefeet         float64\n",
       "19     propertycountylandusecode          object\n",
       "20         propertylandusetypeid         float64\n",
       "21            propertyzoningdesc          object\n",
       "22        rawcensustractandblock         float64\n",
       "23                  regionidcity         float64\n",
       "24                regionidcounty         float64\n",
       "25          regionidneighborhood         float64\n",
       "26                   regionidzip         float64\n",
       "27                       roomcnt         float64\n",
       "28                       unitcnt         float64\n",
       "29                     yearbuilt         float64\n",
       "30               numberofstories         float64\n",
       "31    structuretaxvaluedollarcnt         float64\n",
       "32             taxvaluedollarcnt         float64\n",
       "33                assessmentyear         float64\n",
       "34         landtaxvaluedollarcnt         float64\n",
       "35                     taxamount         float64\n",
       "36           censustractandblock         float64"
      ]
     },
     "execution_count": 113,
     "metadata": {},
     "output_type": "execute_result"
    }
   ],
   "source": [
    "pd.options.display.max_rows = 65\n",
    "dtype_df = X16.dtypes.reset_index()\n",
    "dtype_df.columns = [\"Count\", \"Column Type\"]\n",
    "dtype_df"
   ]
  },
  {
   "cell_type": "code",
   "execution_count": 117,
   "metadata": {},
   "outputs": [],
   "source": [
    "X16['calculatedfinishedsquarefeet'] = X16['calculatedfinishedsquarefeet'].fillna(0)"
   ]
  },
  {
   "cell_type": "code",
   "execution_count": 185,
   "metadata": {},
   "outputs": [
    {
     "data": {
      "text/plain": [
       "0    False\n",
       "1    False\n",
       "2    False\n",
       "3    False\n",
       "4    False\n",
       "Name: calculatedfinishedsquarefeet, dtype: bool"
      ]
     },
     "execution_count": 185,
     "metadata": {},
     "output_type": "execute_result"
    }
   ],
   "source": [
    "X16['calculatedfinishedsquarefeet'].isnull().head()"
   ]
  },
  {
   "cell_type": "code",
   "execution_count": 162,
   "metadata": {},
   "outputs": [],
   "source": [
    "X = X16.calculatedfinishedsquarefeet.values\n",
    "y = X16.iloc[:, 1].values"
   ]
  },
  {
   "cell_type": "code",
   "execution_count": 195,
   "metadata": {},
   "outputs": [
    {
     "data": {
      "text/plain": [
       "(90275, 1, 1, 1, 1, 1, 1, 1)"
      ]
     },
     "execution_count": 195,
     "metadata": {},
     "output_type": "execute_result"
    }
   ],
   "source": [
    "#View features\n",
    "X = X[:, np.newaxis]\n",
    "X.reshape(-1,1)\n",
    "X.shape"
   ]
  },
  {
   "cell_type": "code",
   "execution_count": 171,
   "metadata": {},
   "outputs": [
    {
     "data": {
      "text/plain": [
       "array([[1684.],\n",
       "       [2263.],\n",
       "       [2217.],\n",
       "       ...,\n",
       "       [2617.],\n",
       "       [1034.],\n",
       "       [1524.]])"
      ]
     },
     "execution_count": 171,
     "metadata": {},
     "output_type": "execute_result"
    }
   ],
   "source": [
    "X"
   ]
  },
  {
   "cell_type": "code",
   "execution_count": 174,
   "metadata": {},
   "outputs": [
    {
     "data": {
      "text/plain": [
       "(90275, 1)"
      ]
     },
     "execution_count": 174,
     "metadata": {},
     "output_type": "execute_result"
    }
   ],
   "source": [
    "X.shape"
   ]
  },
  {
   "cell_type": "code",
   "execution_count": 175,
   "metadata": {},
   "outputs": [],
   "source": [
    "from sklearn.model_selection import train_test_split\n",
    "\n",
    "X_train, X_test, y_train, y_test = train_test_split(X, y, test_size=0.2, random_state=0) "
   ]
  },
  {
   "cell_type": "code",
   "execution_count": 186,
   "metadata": {},
   "outputs": [],
   "source": [
    "from sklearn.ensemble import RandomForestRegressor\n",
    "\n",
    "regressor = RandomForestRegressor(n_estimators=25,max_depth=30)  \n",
    "regressor.fit(X_train, y_train)  \n",
    "y_pred = regressor.predict(X_test)    "
   ]
  },
  {
   "cell_type": "code",
   "execution_count": 187,
   "metadata": {},
   "outputs": [
    {
     "name": "stdout",
     "output_type": "stream",
     "text": [
      "Mean Absolute Error: 0.0764124131643938\n",
      "Mean Squared Error: 0.029171554092183038\n",
      "Root Mean Squared Error: 0.17079682108336514\n"
     ]
    }
   ],
   "source": [
    "from sklearn import metrics\n",
    "print('Mean Absolute Error:', metrics.mean_absolute_error(y_test, y_pred))  \n",
    "print('Mean Squared Error:', metrics.mean_squared_error(y_test, y_pred))  \n",
    "print('Root Mean Squared Error:', np.sqrt(metrics.mean_squared_error(y_test, y_pred)))"
   ]
  },
  {
   "cell_type": "code",
   "execution_count": 188,
   "metadata": {},
   "outputs": [
    {
     "data": {
      "text/plain": [
       "RandomForestRegressor(bootstrap=True, criterion='mse', max_depth=30,\n",
       "           max_features='auto', max_leaf_nodes=None,\n",
       "           min_impurity_decrease=0.0, min_impurity_split=None,\n",
       "           min_samples_leaf=1, min_samples_split=2,\n",
       "           min_weight_fraction_leaf=0.0, n_estimators=25, n_jobs=1,\n",
       "           oob_score=False, random_state=None, verbose=0, warm_start=False)"
      ]
     },
     "execution_count": 188,
     "metadata": {},
     "output_type": "execute_result"
    }
   ],
   "source": [
    "regressor.fit(X_train, y_train)  "
   ]
  },
  {
   "cell_type": "code",
   "execution_count": null,
   "metadata": {},
   "outputs": [],
   "source": []
  }
 ],
 "metadata": {
  "kernelspec": {
   "display_name": "Python 3",
   "language": "python",
   "name": "python3"
  },
  "language_info": {
   "codemirror_mode": {
    "name": "ipython",
    "version": 3
   },
   "file_extension": ".py",
   "mimetype": "text/x-python",
   "name": "python",
   "nbconvert_exporter": "python",
   "pygments_lexer": "ipython3",
   "version": "3.6.6"
  }
 },
 "nbformat": 4,
 "nbformat_minor": 2
}
